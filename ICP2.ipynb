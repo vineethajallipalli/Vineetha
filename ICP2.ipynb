{
  "nbformat": 4,
  "nbformat_minor": 0,
  "metadata": {
    "colab": {
      "provenance": [],
      "authorship_tag": "ABX9TyPEEY9hu2jJMmCWD493BoEC",
      "include_colab_link": true
    },
    "kernelspec": {
      "name": "python3",
      "display_name": "Python 3"
    },
    "language_info": {
      "name": "python"
    }
  },
  "cells": [
    {
      "cell_type": "markdown",
      "metadata": {
        "id": "view-in-github",
        "colab_type": "text"
      },
      "source": [
        "<a href=\"https://colab.research.google.com/github/vineethajallipalli/Vineetha/blob/main/ICP2.ipynb\" target=\"_parent\"><img src=\"https://colab.research.google.com/assets/colab-badge.svg\" alt=\"Open In Colab\"/></a>"
      ]
    },
    {
      "cell_type": "code",
      "execution_count": 26,
      "metadata": {
        "colab": {
          "base_uri": "https://localhost:8080/"
        },
        "id": "oRSnTj73ItIc",
        "outputId": "b29d80bf-0a9c-445a-961b-ec47378c6b9b"
      },
      "outputs": [
        {
          "output_type": "stream",
          "name": "stdout",
          "text": [
            "Total Employees: 3\n",
            "Average Salary: 89666.66666666667\n",
            "Employee1: Rohit, Mudiam, 90000, HR\n",
            "Employee2: Vinee, Jallipalli, 80000, QA\n",
            "Employee3: Vivek, Jallipalli, 99000, Finance\n"
          ]
        }
      ],
      "source": [
        "class Employee:\n",
        "    employee_count = 0\n",
        "    total_salary = 0\n",
        "    def __init__(self, name, family, salary, department):\n",
        "        self.name = name\n",
        "        self.family = family\n",
        "        self.salary = salary\n",
        "        self.department = department\n",
        "\n",
        "        Employee.employee_count += 1\n",
        "        Employee.total_salary += salary\n",
        "\n",
        "\n",
        "    @classmethod\n",
        "    def average_salary(cls):\n",
        "        if cls.employee_count == 0:\n",
        "            return 0\n",
        "        return cls.total_salary / cls.employee_count\n",
        "\n",
        "class FulltimeEmployee(Employee):\n",
        "    def __init__(self, name, family, salary, department):\n",
        "        super().__init__(name, family, salary, department)\n",
        "\n",
        "employee1 = Employee(\"Rohit\", \"Mudiam\", 90000, \"HR\")\n",
        "employee2 = FulltimeEmployee(\"Vinee\", \"Jallipalli\", 80000, \"QA\")\n",
        "employee3 = Employee(\"Vivek\", \"Jallipalli\", 99000, \"Finance\")\n",
        "\n",
        "print(f\"Total Employees: {Employee.employee_count}\")\n",
        "print(f\"Average Salary: {Employee.average_salary()}\")\n",
        "\n",
        "print(f\"Employee1: {employee1.name}, {employee1.family}, {employee1.salary}, {employee1.department}\")\n",
        "print(f\"Employee2: {employee2.name}, {employee2.family}, {employee2.salary}, {employee2.department}\")\n",
        "print(f\"Employee3: {employee3.name}, {employee3.family}, {employee3.salary}, {employee3.department}\")\n"
      ]
    },
    {
      "cell_type": "code",
      "source": [
        "# Import the NumPy library and alias it as 'np' for brevity and convention.\n",
        "import numpy as np\n",
        "\n",
        "# Create a random vector of size 20 with floats in the range 1-20\n",
        "random_vector = np.random.uniform(1, 20, 20)\n",
        "\n",
        "print(\"Original Random Vector:\\n\", random_vector)\n",
        "\n"
      ],
      "metadata": {
        "colab": {
          "base_uri": "https://localhost:8080/"
        },
        "id": "fJS7IlKoKz-F",
        "outputId": "30cda442-5b5b-4a67-e9e4-737a4c014a98"
      },
      "execution_count": 1,
      "outputs": [
        {
          "output_type": "stream",
          "name": "stdout",
          "text": [
            "Original Random Vector:\n",
            " [13.77009152  8.64650775 15.87947129  9.61577928 15.70330823 17.96240109\n",
            " 15.16096613  8.48586502 16.30355052 18.80931378 11.92710987 15.29181108\n",
            " 16.89597091 19.8747145  19.48291435 17.6213314  17.88888946  7.77118246\n",
            "  3.91758188  7.94490517]\n"
          ]
        }
      ]
    },
    {
      "cell_type": "code",
      "source": [
        "# Reshape the array to 4 by 5 (4 rows and 5 columns)\n",
        "reshaped_array = random_vector.reshape(4, 5)\n",
        "\n",
        "print(reshaped_array)"
      ],
      "metadata": {
        "colab": {
          "base_uri": "https://localhost:8080/"
        },
        "id": "jQIgpp9tS8A7",
        "outputId": "8fc1a20b-3f7c-49ab-82f1-5444455ae75c"
      },
      "execution_count": 2,
      "outputs": [
        {
          "output_type": "stream",
          "name": "stdout",
          "text": [
            "[[13.77009152  8.64650775 15.87947129  9.61577928 15.70330823]\n",
            " [17.96240109 15.16096613  8.48586502 16.30355052 18.80931378]\n",
            " [11.92710987 15.29181108 16.89597091 19.8747145  19.48291435]\n",
            " [17.6213314  17.88888946  7.77118246  3.91758188  7.94490517]]\n"
          ]
        }
      ]
    },
    {
      "cell_type": "code",
      "source": [
        "# Replace the max in each row by 0 (axis=1)\n",
        "reshaped_array[np.arange(4), reshaped_array.argmax(axis=1)] = 0\n",
        "\n",
        "print(\"Reshaped Array:\\n\", reshaped_array)"
      ],
      "metadata": {
        "colab": {
          "base_uri": "https://localhost:8080/"
        },
        "id": "_xsCqJdMTHVR",
        "outputId": "13fb0e7a-2049-4d21-dfb1-e2e82e08e131"
      },
      "execution_count": 3,
      "outputs": [
        {
          "output_type": "stream",
          "name": "stdout",
          "text": [
            "Reshaped Array:\n",
            " [[13.77009152  8.64650775  0.          9.61577928 15.70330823]\n",
            " [17.96240109 15.16096613  8.48586502 16.30355052  0.        ]\n",
            " [11.92710987 15.29181108 16.89597091  0.         19.48291435]\n",
            " [17.6213314   0.          7.77118246  3.91758188  7.94490517]]\n"
          ]
        }
      ]
    }
  ]
}