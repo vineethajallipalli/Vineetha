{
  "nbformat": 4,
  "nbformat_minor": 0,
  "metadata": {
    "colab": {
      "provenance": [],
      "authorship_tag": "ABX9TyPlSk4H5SJa/oc1ecJt2lqT",
      "include_colab_link": true
    },
    "kernelspec": {
      "name": "python3",
      "display_name": "Python 3"
    },
    "language_info": {
      "name": "python"
    }
  },
  "cells": [
    {
      "cell_type": "markdown",
      "metadata": {
        "id": "view-in-github",
        "colab_type": "text"
      },
      "source": [
        "<a href=\"https://colab.research.google.com/github/vineethajallipalli/Vineetha/blob/main/ICP3.ipynb\" target=\"_parent\"><img src=\"https://colab.research.google.com/assets/colab-badge.svg\" alt=\"Open In Colab\"/></a>"
      ]
    },
    {
      "cell_type": "code",
      "source": [],
      "metadata": {
        "id": "UUj4qWjDNTO9"
      },
      "execution_count": null,
      "outputs": []
    },
    {
      "cell_type": "markdown",
      "source": [
        "**1. Data Manipulation**"
      ],
      "metadata": {
        "id": "hm3TB3rcKcXV"
      }
    },
    {
      "cell_type": "code",
      "execution_count": 25,
      "metadata": {
        "id": "eHrGkcoVH7Ky"
      },
      "outputs": [],
      "source": [
        "import pandas as pd\n",
        "\n",
        "# a. Read the CSV file\n",
        "data = '/content/data.csv'\n",
        "df = pd.read_csv(data)"
      ]
    },
    {
      "cell_type": "code",
      "source": [
        "# b. Show the basic statistical description\n",
        "basic_stats = df.describe()\n",
        "print(\"Basic Statistical Description:\")\n",
        "print(basic_stats)"
      ],
      "metadata": {
        "colab": {
          "base_uri": "https://localhost:8080/"
        },
        "id": "BbumBrdwIYJV",
        "outputId": "452a6437-f15f-4f39-a668-ec6516c4b1ea"
      },
      "execution_count": 26,
      "outputs": [
        {
          "output_type": "stream",
          "name": "stdout",
          "text": [
            "Basic Statistical Description:\n",
            "         Duration       Pulse    Maxpulse     Calories\n",
            "count  169.000000  169.000000  169.000000   164.000000\n",
            "mean    63.846154  107.461538  134.047337   375.790244\n",
            "std     42.299949   14.510259   16.450434   266.379919\n",
            "min     15.000000   80.000000  100.000000    50.300000\n",
            "25%     45.000000  100.000000  124.000000   250.925000\n",
            "50%     60.000000  105.000000  131.000000   318.600000\n",
            "75%     60.000000  111.000000  141.000000   387.600000\n",
            "max    300.000000  159.000000  184.000000  1860.400000\n"
          ]
        }
      ]
    },
    {
      "cell_type": "code",
      "source": [
        "# c. Check for null values\n",
        "null_values = df.isnull().sum()\n",
        "print(\"\\nNull Values:\")\n",
        "print(null_values)"
      ],
      "metadata": {
        "colab": {
          "base_uri": "https://localhost:8080/"
        },
        "id": "odL4u--8Ia0e",
        "outputId": "c4e5409a-56c7-4619-d4a2-0a7796ecffb4"
      },
      "execution_count": 27,
      "outputs": [
        {
          "output_type": "stream",
          "name": "stdout",
          "text": [
            "\n",
            "Null Values:\n",
            "Duration    0\n",
            "Pulse       0\n",
            "Maxpulse    0\n",
            "Calories    5\n",
            "dtype: int64\n"
          ]
        }
      ]
    },
    {
      "cell_type": "code",
      "source": [
        "# d. Replace null values with mean\n",
        "df.fillna(df.mean(), inplace=True)"
      ],
      "metadata": {
        "id": "t870Nwf9IdyB"
      },
      "execution_count": 28,
      "outputs": []
    },
    {
      "cell_type": "code",
      "source": [
        "# e. Aggregate data using min, max, count, mean for at least two columns\n",
        "agg_columns = ['Duration', 'Calories']\n",
        "aggregated_data = df[agg_columns].agg(['min', 'max', 'count', 'mean'])\n",
        "print(\"\\nAggregated Data:\")\n",
        "print(aggregated_data)"
      ],
      "metadata": {
        "colab": {
          "base_uri": "https://localhost:8080/"
        },
        "id": "xXTLFtHkIgQK",
        "outputId": "43697591-34ca-4204-e49b-12060c954ce7"
      },
      "execution_count": 29,
      "outputs": [
        {
          "output_type": "stream",
          "name": "stdout",
          "text": [
            "\n",
            "Aggregated Data:\n",
            "         Duration     Calories\n",
            "min     15.000000    50.300000\n",
            "max    300.000000  1860.400000\n",
            "count  169.000000   169.000000\n",
            "mean    63.846154   375.790244\n"
          ]
        }
      ]
    },
    {
      "cell_type": "code",
      "source": [
        "# f. Filter rows with calories between 500 and 1000\n",
        "filtered_df_1 = df[(df['Calories'] >= 500) & (df['Calories'] <= 1000)]\n",
        "print(filtered_df_1)"
      ],
      "metadata": {
        "colab": {
          "base_uri": "https://localhost:8080/"
        },
        "id": "zanDn8TrInEH",
        "outputId": "970755eb-c43d-4318-8cc7-5b8bd53dc8b9"
      },
      "execution_count": 30,
      "outputs": [
        {
          "output_type": "stream",
          "name": "stdout",
          "text": [
            "     Duration  Pulse  Maxpulse  Calories\n",
            "51         80    123       146     643.1\n",
            "62        160    109       135     853.0\n",
            "65        180     90       130     800.4\n",
            "66        150    105       135     873.4\n",
            "67        150    107       130     816.0\n",
            "72         90    100       127     700.0\n",
            "73        150     97       127     953.2\n",
            "75         90     98       125     563.2\n",
            "78        120    100       130     500.4\n",
            "83        120    100       130     500.0\n",
            "90        180    101       127     600.1\n",
            "99         90     93       124     604.1\n",
            "101        90     90       110     500.0\n",
            "102        90     90       100     500.0\n",
            "103        90     90       100     500.4\n",
            "106       180     90       120     800.3\n",
            "108        90     90       120     500.3\n"
          ]
        }
      ]
    },
    {
      "cell_type": "code",
      "source": [
        "# g. Filter rows with calories > 500 and pulse < 100\n",
        "filtered_df_2 = df[(df['Calories'] > 500) & (df['Pulse'] < 100)]\n",
        "print(filtered_df_2)"
      ],
      "metadata": {
        "colab": {
          "base_uri": "https://localhost:8080/"
        },
        "id": "ipl6zTkYI8vZ",
        "outputId": "75099360-2036-475e-db76-7772b530fa7e"
      },
      "execution_count": 31,
      "outputs": [
        {
          "output_type": "stream",
          "name": "stdout",
          "text": [
            "     Duration  Pulse  Maxpulse  Calories\n",
            "65        180     90       130     800.4\n",
            "70        150     97       129    1115.0\n",
            "73        150     97       127     953.2\n",
            "75         90     98       125     563.2\n",
            "99         90     93       124     604.1\n",
            "103        90     90       100     500.4\n",
            "106       180     90       120     800.3\n",
            "108        90     90       120     500.3\n"
          ]
        }
      ]
    },
    {
      "cell_type": "code",
      "source": [
        "# h. Create a new df_modified dataframe without \"Maxpulse\"\n",
        "df_modified = df.drop(columns=['Maxpulse'])\n",
        "print(df_modified)"
      ],
      "metadata": {
        "colab": {
          "base_uri": "https://localhost:8080/"
        },
        "id": "LuWZ7BnwJAJX",
        "outputId": "6d169e79-db12-427b-a809-84be65b9b89a"
      },
      "execution_count": 32,
      "outputs": [
        {
          "output_type": "stream",
          "name": "stdout",
          "text": [
            "     Duration  Pulse  Calories\n",
            "0          60    110     409.1\n",
            "1          60    117     479.0\n",
            "2          60    103     340.0\n",
            "3          45    109     282.4\n",
            "4          45    117     406.0\n",
            "..        ...    ...       ...\n",
            "164        60    105     290.8\n",
            "165        60    110     300.0\n",
            "166        60    115     310.2\n",
            "167        75    120     320.4\n",
            "168        75    125     330.4\n",
            "\n",
            "[169 rows x 3 columns]\n"
          ]
        }
      ]
    },
    {
      "cell_type": "code",
      "source": [
        "# i. Delete \"Maxpulse\" column from the main df dataframe\n",
        "df.drop(columns=['Maxpulse'], inplace=True)"
      ],
      "metadata": {
        "id": "WON0vyuWJDHv"
      },
      "execution_count": 33,
      "outputs": []
    },
    {
      "cell_type": "code",
      "source": [
        "# j. Convert the datatype of Calories column to int\n",
        "df['Calories'] = df['Calories'].astype(int)"
      ],
      "metadata": {
        "id": "FzCUhy8CJNei"
      },
      "execution_count": 34,
      "outputs": []
    },
    {
      "cell_type": "code",
      "source": [
        "# k. Scatter plot for Duration and Calories\n",
        "df.plot.scatter(x='Duration', y='Calories', title='Scatter Plot: Duration vs Calories')"
      ],
      "metadata": {
        "colab": {
          "base_uri": "https://localhost:8080/",
          "height": 489
        },
        "id": "59ru8kVsJQyg",
        "outputId": "edf074a1-0622-4eaf-c2de-06e9e1ef6885"
      },
      "execution_count": 35,
      "outputs": [
        {
          "output_type": "execute_result",
          "data": {
            "text/plain": [
              "<Axes: title={'center': 'Scatter Plot: Duration vs Calories'}, xlabel='Duration', ylabel='Calories'>"
            ]
          },
          "metadata": {},
          "execution_count": 35
        },
        {
          "output_type": "display_data",
          "data": {
            "text/plain": [
              "<Figure size 640x480 with 1 Axes>"
            ],
            "image/png": "[encoded data removed]"
          },
          "metadata": {}
        }
      ]
    },
    {
      "cell_type": "markdown",
      "source": [
        "**2. Linear Regression**"
      ],
      "metadata": {
        "id": "8yhTx4NyJZC3"
      }
    },
    {
      "cell_type": "code",
      "source": [
        "import pandas as pd\n",
        "import numpy as np\n",
        "from sklearn.model_selection import train_test_split\n",
        "from sklearn.linear_model import LinearRegression\n",
        "from sklearn.metrics import mean_squared_error\n",
        "import matplotlib.pyplot as plt\n"
      ],
      "metadata": {
        "id": "JkRjY6LeJUrh"
      },
      "execution_count": 36,
      "outputs": []
    },
    {
      "cell_type": "code",
      "source": [
        "# a. Import the given \"Salary_Data.csv\"\n",
        "salary_data = '/content/Salary_Data.csv'\n",
        "df = pd.read_csv(salary_data)\n",
        "\n",
        "# Display the first few rows of the DataFrame\n",
        "print(\"Dataset:\")\n",
        "print(df.head())"
      ],
      "metadata": {
        "colab": {
          "base_uri": "https://localhost:8080/"
        },
        "id": "Pxt75Hv4JrDF",
        "outputId": "3abdecac-ba50-4c31-9167-de16883f4175"
      },
      "execution_count": 37,
      "outputs": [
        {
          "output_type": "stream",
          "name": "stdout",
          "text": [
            "Dataset:\n",
            "   YearsExperience   Salary\n",
            "0              1.1  39343.0\n",
            "1              1.3  46205.0\n",
            "2              1.5  37731.0\n",
            "3              2.0  43525.0\n",
            "4              2.2  39891.0\n"
          ]
        }
      ]
    },
    {
      "cell_type": "code",
      "source": [
        "# b. Split the data into train and test partitions\n",
        "X = df[['YearsExperience']]\n",
        "y = df['Salary']\n",
        "X_train, X_test, y_train, y_test = train_test_split(X, y, test_size=1/3, random_state=42)\n"
      ],
      "metadata": {
        "id": "kMcXWAixKFar"
      },
      "execution_count": 38,
      "outputs": []
    },
    {
      "cell_type": "code",
      "source": [
        "# c. Train and predict the model\n",
        "model = LinearRegression()\n",
        "model.fit(X_train, y_train)\n",
        "y_train_pred = model.predict(X_train)\n",
        "y_test_pred = model.predict(X_test)"
      ],
      "metadata": {
        "id": "VYfLWzr8KGyM"
      },
      "execution_count": 39,
      "outputs": []
    },
    {
      "cell_type": "code",
      "source": [
        "# d. Calculate mean_squared_error\n",
        "mse_train = mean_squared_error(y_train, y_train_pred)\n",
        "mse_test = mean_squared_error(y_test, y_test_pred)\n",
        "print(f\"\\nMean Squared Error (Train): {mse_train}\")\n",
        "print(f\"Mean Squared Error (Test): {mse_test}\")"
      ],
      "metadata": {
        "colab": {
          "base_uri": "https://localhost:8080/"
        },
        "id": "HBDEwKCQKLNP",
        "outputId": "6b77af86-f5f8-497d-8212-b1668343c554"
      },
      "execution_count": 40,
      "outputs": [
        {
          "output_type": "stream",
          "name": "stdout",
          "text": [
            "\n",
            "Mean Squared Error (Train): 29793161.082422983\n",
            "Mean Squared Error (Test): 35301898.887134895\n"
          ]
        }
      ]
    },
    {
      "cell_type": "code",
      "source": [
        "# e. Visualize train and test data using scatter plot\n",
        "plt.figure(figsize=(10, 6))\n",
        "\n",
        "# Scatter plot for training data\n",
        "plt.scatter(X_train, y_train, color='blue', label='Training Data')\n",
        "\n",
        "# Scatter plot for testing data\n",
        "plt.scatter(X_test, y_test, color='red', label='Testing Data')\n",
        "\n",
        "# Plotting the regression line for training data\n",
        "plt.plot(X_train, y_train_pred, color='green', linewidth=2, label='Regression Line')\n",
        "\n",
        "# Adding labels and title\n",
        "plt.xlabel('Years of Experience')\n",
        "plt.ylabel('Salary')\n",
        "plt.title('Linear Regression: Salary vs Years of Experience')\n",
        "plt.legend()\n",
        "plt.show()"
      ],
      "metadata": {
        "colab": {
          "base_uri": "https://localhost:8080/",
          "height": 564
        },
        "id": "EsE5yubKKN_E",
        "outputId": "fc3f9ad8-1963-4e6a-9745-e6160fee0964"
      },
      "execution_count": 41,
      "outputs": [
        {
          "output_type": "display_data",
          "data": {
            "text/plain": [
              "<Figure size 1000x600 with 1 Axes>"
            ],
            "image/png": "[encoded data removed]"
          },
          "metadata": {}
        }
      ]
    },
    {
      "cell_type": "code",
      "source": [],
      "metadata": {
        "id": "wDzsbG4ZKVcR"
      },
      "execution_count": null,
      "outputs": []
    }
  ]
}